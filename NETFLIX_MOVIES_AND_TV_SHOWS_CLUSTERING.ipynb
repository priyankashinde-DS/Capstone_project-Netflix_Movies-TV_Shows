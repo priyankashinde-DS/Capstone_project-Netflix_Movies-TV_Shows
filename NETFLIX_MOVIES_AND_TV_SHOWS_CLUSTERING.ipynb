{
  "nbformat": 4,
  "nbformat_minor": 0,
  "metadata": {
    "colab": {
      "name": "NETFLIX MOVIES AND TV SHOWS CLUSTERING.ipynb",
      "provenance": [],
      "collapsed_sections": [],
      "include_colab_link": true
    },
    "kernelspec": {
      "name": "python3",
      "display_name": "Python 3"
    },
    "language_info": {
      "name": "python"
    }
  },
  "cells": [
    {
      "cell_type": "markdown",
      "metadata": {
        "id": "view-in-github",
        "colab_type": "text"
      },
      "source": [
        "<a href=\"https://colab.research.google.com/github/priyankashinde-DS/Capstone_project-Netflix_Movies-TV_Shows/blob/main/NETFLIX_MOVIES_AND_TV_SHOWS_CLUSTERING.ipynb\" target=\"_parent\"><img src=\"https://colab.research.google.com/assets/colab-badge.svg\" alt=\"Open In Colab\"/></a>"
      ]
    },
    {
      "cell_type": "markdown",
      "metadata": {
        "id": "8M5kyFaVjzXk"
      },
      "source": [
        "# **Problem Statement**\n",
        "---\n",
        "\n",
        "This dataset consists of tv shows and movies available on Netflix as of 2019. The dataset is collected from Flixable which is a third-party Netflix search engine.\n",
        "\n",
        "In 2018, they released an interesting report which shows that the number of TV shows on Netflix has nearly tripled since 2010. The streaming service’s number of movies has decreased by more than 2,000 titles since 2010, while its number of TV shows has nearly tripled. It will be interesting to explore what all other insights can be obtained from the same dataset.\n",
        "\n",
        "Integrating this dataset with other external datasets such as IMDB ratings, rotten tomatoes can also provide many interesting findings."
      ]
    },
    {
      "cell_type": "markdown",
      "metadata": {
        "id": "tLx5cJO8hzb1"
      },
      "source": [
        "## <b>In this  project, you are required to do </b>\n",
        "1. Exploratory Data Analysis \n",
        "\n",
        "2. Understanding what type content is available in different countries\n",
        "\n",
        "3. Is Netflix has increasingly focusing on TV rather than movies in recent years.\n",
        "4. Clustering similar content by matching text-based features\n",
        "\n"
      ]
    },
    {
      "cell_type": "markdown",
      "metadata": {
        "id": "AzGDqdC4fZ-b"
      },
      "source": [
        "# **Attribute Information**"
      ]
    },
    {
      "cell_type": "markdown",
      "metadata": {
        "id": "jhfLYargscGV"
      },
      "source": [
        "**1.show_id :** Unique ID for every Movie / Tv Show\n",
        "\n",
        "**2.type :** Identifier - A Movie or TV Show\n",
        "\n",
        "**3.title :** Title of the Movie / Tv Show\n",
        "\n",
        "**4.director :** Director of the Movie\n",
        "\n",
        "**5.cast :** Actors involved in the movie / show\n",
        "\n",
        "**6.country :** Country where the movie / show was produced\n",
        "\n",
        "**7.date_added :** Date it was added on Netflix\n",
        "\n",
        "**8.release_year :** Actual Releaseyear of the movie / show\n",
        "\n",
        "**9.rating :** TV Rating of the movie / show\n",
        "\n",
        "**10.duration :** Total Duration - in minutes or number of seasons\n",
        "\n",
        "**11.listed_in :** Genere\n",
        "\n",
        "**12.description:** The Summary description"
      ]
    },
    {
      "cell_type": "code",
      "source": [
        "# Mounting Google Drive\n",
        "from google.colab import drive\n",
        "drive.mount('/content/drive')"
      ],
      "metadata": {
        "id": "whSwM-cnJqNt",
        "colab": {
          "base_uri": "https://localhost:8080/"
        },
        "outputId": "b3bc3673-48ea-47db-f70e-001085add324"
      },
      "execution_count": 1,
      "outputs": [
        {
          "output_type": "stream",
          "name": "stdout",
          "text": [
            "Mounted at /content/drive\n"
          ]
        }
      ]
    },
    {
      "cell_type": "markdown",
      "source": [
        "# **1.Importing Libraries**"
      ],
      "metadata": {
        "id": "1GybdnQFFzGl"
      }
    },
    {
      "cell_type": "code",
      "source": [
        "import numpy as np\n",
        "import pandas as pd\n",
        "import matplotlib.pyplot as plt\n",
        "import seaborn as sns\n",
        "\n",
        "from os import path\n",
        "from PIL import Image\n",
        "from wordcloud import WordCloud, STOPWORDS, ImageColorGenerator\n",
        "\n",
        "#for nlp\n",
        "from sklearn import preprocessing\n",
        "from sklearn.feature_extraction.text import CountVectorizer, TfidfVectorizer\n",
        "from sklearn.model_selection import train_test_split, KFold\n",
        "from nltk.corpus import stopwords\n",
        "from nltk.stem.snowball import SnowballStemmer\n",
        "\n",
        "from sklearn.cluster import KMeans\n",
        "from sklearn.metrics import silhouette_score\n",
        "from sklearn.metrics import silhouette_samples\n",
        "import scipy.cluster.hierarchy as sch\n",
        "\n",
        "import warnings\n",
        "warnings.filterwarnings('ignore')"
      ],
      "metadata": {
        "id": "aztQuKOBJolG"
      },
      "execution_count": 2,
      "outputs": []
    },
    {
      "cell_type": "markdown",
      "source": [
        "# **2.Data importing**"
      ],
      "metadata": {
        "id": "ccdKe5mQGaIs"
      }
    },
    {
      "cell_type": "code",
      "source": [
        "netflix_df=pd.read_csv('/content/drive/MyDrive/Colab Notebooks/CapstoneProject/Unsupervised ML-Clustring/NETFLIX MOVIES AND TV SHOWS CLUSTERING.csv')"
      ],
      "metadata": {
        "id": "TAXcVZcpJoor"
      },
      "execution_count": 3,
      "outputs": []
    },
    {
      "cell_type": "markdown",
      "source": [
        "# **3.Data Exploration**"
      ],
      "metadata": {
        "id": "1nb7MkKxGl3D"
      }
    },
    {
      "cell_type": "code",
      "source": [
        "# Let's take look at top row of dataset\n",
        "netflix_df.head()"
      ],
      "metadata": {
        "id": "R37xJ9rVJotC",
        "colab": {
          "base_uri": "https://localhost:8080/",
          "height": 337
        },
        "outputId": "29c5b0ce-ffaa-4139-e4b7-a8f1b87e4d55"
      },
      "execution_count": 4,
      "outputs": [
        {
          "output_type": "execute_result",
          "data": {
            "text/plain": [
              "  show_id     type  title           director  \\\n",
              "0      s1  TV Show     3%                NaN   \n",
              "1      s2    Movie   7:19  Jorge Michel Grau   \n",
              "2      s3    Movie  23:59       Gilbert Chan   \n",
              "3      s4    Movie      9        Shane Acker   \n",
              "4      s5    Movie     21     Robert Luketic   \n",
              "\n",
              "                                                cast        country  \\\n",
              "0  João Miguel, Bianca Comparato, Michel Gomes, R...         Brazil   \n",
              "1  Demián Bichir, Héctor Bonilla, Oscar Serrano, ...         Mexico   \n",
              "2  Tedd Chan, Stella Chung, Henley Hii, Lawrence ...      Singapore   \n",
              "3  Elijah Wood, John C. Reilly, Jennifer Connelly...  United States   \n",
              "4  Jim Sturgess, Kevin Spacey, Kate Bosworth, Aar...  United States   \n",
              "\n",
              "          date_added  release_year rating   duration  \\\n",
              "0    August 14, 2020          2020  TV-MA  4 Seasons   \n",
              "1  December 23, 2016          2016  TV-MA     93 min   \n",
              "2  December 20, 2018          2011      R     78 min   \n",
              "3  November 16, 2017          2009  PG-13     80 min   \n",
              "4    January 1, 2020          2008  PG-13    123 min   \n",
              "\n",
              "                                           listed_in  \\\n",
              "0  International TV Shows, TV Dramas, TV Sci-Fi &...   \n",
              "1                       Dramas, International Movies   \n",
              "2                Horror Movies, International Movies   \n",
              "3  Action & Adventure, Independent Movies, Sci-Fi...   \n",
              "4                                             Dramas   \n",
              "\n",
              "                                         description  \n",
              "0  In a future where the elite inhabit an island ...  \n",
              "1  After a devastating earthquake hits Mexico Cit...  \n",
              "2  When an army recruit is found dead, his fellow...  \n",
              "3  In a postapocalyptic world, rag-doll robots hi...  \n",
              "4  A brilliant group of students become card-coun...  "
            ],
            "text/html": [
              "\n",
              "  <div id=\"df-90c88e12-e7b4-4fa3-b0d3-9e02d97dba1d\">\n",
              "    <div class=\"colab-df-container\">\n",
              "      <div>\n",
              "<style scoped>\n",
              "    .dataframe tbody tr th:only-of-type {\n",
              "        vertical-align: middle;\n",
              "    }\n",
              "\n",
              "    .dataframe tbody tr th {\n",
              "        vertical-align: top;\n",
              "    }\n",
              "\n",
              "    .dataframe thead th {\n",
              "        text-align: right;\n",
              "    }\n",
              "</style>\n",
              "<table border=\"1\" class=\"dataframe\">\n",
              "  <thead>\n",
              "    <tr style=\"text-align: right;\">\n",
              "      <th></th>\n",
              "      <th>show_id</th>\n",
              "      <th>type</th>\n",
              "      <th>title</th>\n",
              "      <th>director</th>\n",
              "      <th>cast</th>\n",
              "      <th>country</th>\n",
              "      <th>date_added</th>\n",
              "      <th>release_year</th>\n",
              "      <th>rating</th>\n",
              "      <th>duration</th>\n",
              "      <th>listed_in</th>\n",
              "      <th>description</th>\n",
              "    </tr>\n",
              "  </thead>\n",
              "  <tbody>\n",
              "    <tr>\n",
              "      <th>0</th>\n",
              "      <td>s1</td>\n",
              "      <td>TV Show</td>\n",
              "      <td>3%</td>\n",
              "      <td>NaN</td>\n",
              "      <td>João Miguel, Bianca Comparato, Michel Gomes, R...</td>\n",
              "      <td>Brazil</td>\n",
              "      <td>August 14, 2020</td>\n",
              "      <td>2020</td>\n",
              "      <td>TV-MA</td>\n",
              "      <td>4 Seasons</td>\n",
              "      <td>International TV Shows, TV Dramas, TV Sci-Fi &amp;...</td>\n",
              "      <td>In a future where the elite inhabit an island ...</td>\n",
              "    </tr>\n",
              "    <tr>\n",
              "      <th>1</th>\n",
              "      <td>s2</td>\n",
              "      <td>Movie</td>\n",
              "      <td>7:19</td>\n",
              "      <td>Jorge Michel Grau</td>\n",
              "      <td>Demián Bichir, Héctor Bonilla, Oscar Serrano, ...</td>\n",
              "      <td>Mexico</td>\n",
              "      <td>December 23, 2016</td>\n",
              "      <td>2016</td>\n",
              "      <td>TV-MA</td>\n",
              "      <td>93 min</td>\n",
              "      <td>Dramas, International Movies</td>\n",
              "      <td>After a devastating earthquake hits Mexico Cit...</td>\n",
              "    </tr>\n",
              "    <tr>\n",
              "      <th>2</th>\n",
              "      <td>s3</td>\n",
              "      <td>Movie</td>\n",
              "      <td>23:59</td>\n",
              "      <td>Gilbert Chan</td>\n",
              "      <td>Tedd Chan, Stella Chung, Henley Hii, Lawrence ...</td>\n",
              "      <td>Singapore</td>\n",
              "      <td>December 20, 2018</td>\n",
              "      <td>2011</td>\n",
              "      <td>R</td>\n",
              "      <td>78 min</td>\n",
              "      <td>Horror Movies, International Movies</td>\n",
              "      <td>When an army recruit is found dead, his fellow...</td>\n",
              "    </tr>\n",
              "    <tr>\n",
              "      <th>3</th>\n",
              "      <td>s4</td>\n",
              "      <td>Movie</td>\n",
              "      <td>9</td>\n",
              "      <td>Shane Acker</td>\n",
              "      <td>Elijah Wood, John C. Reilly, Jennifer Connelly...</td>\n",
              "      <td>United States</td>\n",
              "      <td>November 16, 2017</td>\n",
              "      <td>2009</td>\n",
              "      <td>PG-13</td>\n",
              "      <td>80 min</td>\n",
              "      <td>Action &amp; Adventure, Independent Movies, Sci-Fi...</td>\n",
              "      <td>In a postapocalyptic world, rag-doll robots hi...</td>\n",
              "    </tr>\n",
              "    <tr>\n",
              "      <th>4</th>\n",
              "      <td>s5</td>\n",
              "      <td>Movie</td>\n",
              "      <td>21</td>\n",
              "      <td>Robert Luketic</td>\n",
              "      <td>Jim Sturgess, Kevin Spacey, Kate Bosworth, Aar...</td>\n",
              "      <td>United States</td>\n",
              "      <td>January 1, 2020</td>\n",
              "      <td>2008</td>\n",
              "      <td>PG-13</td>\n",
              "      <td>123 min</td>\n",
              "      <td>Dramas</td>\n",
              "      <td>A brilliant group of students become card-coun...</td>\n",
              "    </tr>\n",
              "  </tbody>\n",
              "</table>\n",
              "</div>\n",
              "      <button class=\"colab-df-convert\" onclick=\"convertToInteractive('df-90c88e12-e7b4-4fa3-b0d3-9e02d97dba1d')\"\n",
              "              title=\"Convert this dataframe to an interactive table.\"\n",
              "              style=\"display:none;\">\n",
              "        \n",
              "  <svg xmlns=\"http://www.w3.org/2000/svg\" height=\"24px\"viewBox=\"0 0 24 24\"\n",
              "       width=\"24px\">\n",
              "    <path d=\"M0 0h24v24H0V0z\" fill=\"none\"/>\n",
              "    <path d=\"M18.56 5.44l.94 2.06.94-2.06 2.06-.94-2.06-.94-.94-2.06-.94 2.06-2.06.94zm-11 1L8.5 8.5l.94-2.06 2.06-.94-2.06-.94L8.5 2.5l-.94 2.06-2.06.94zm10 10l.94 2.06.94-2.06 2.06-.94-2.06-.94-.94-2.06-.94 2.06-2.06.94z\"/><path d=\"M17.41 7.96l-1.37-1.37c-.4-.4-.92-.59-1.43-.59-.52 0-1.04.2-1.43.59L10.3 9.45l-7.72 7.72c-.78.78-.78 2.05 0 2.83L4 21.41c.39.39.9.59 1.41.59.51 0 1.02-.2 1.41-.59l7.78-7.78 2.81-2.81c.8-.78.8-2.07 0-2.86zM5.41 20L4 18.59l7.72-7.72 1.47 1.35L5.41 20z\"/>\n",
              "  </svg>\n",
              "      </button>\n",
              "      \n",
              "  <style>\n",
              "    .colab-df-container {\n",
              "      display:flex;\n",
              "      flex-wrap:wrap;\n",
              "      gap: 12px;\n",
              "    }\n",
              "\n",
              "    .colab-df-convert {\n",
              "      background-color: #E8F0FE;\n",
              "      border: none;\n",
              "      border-radius: 50%;\n",
              "      cursor: pointer;\n",
              "      display: none;\n",
              "      fill: #1967D2;\n",
              "      height: 32px;\n",
              "      padding: 0 0 0 0;\n",
              "      width: 32px;\n",
              "    }\n",
              "\n",
              "    .colab-df-convert:hover {\n",
              "      background-color: #E2EBFA;\n",
              "      box-shadow: 0px 1px 2px rgba(60, 64, 67, 0.3), 0px 1px 3px 1px rgba(60, 64, 67, 0.15);\n",
              "      fill: #174EA6;\n",
              "    }\n",
              "\n",
              "    [theme=dark] .colab-df-convert {\n",
              "      background-color: #3B4455;\n",
              "      fill: #D2E3FC;\n",
              "    }\n",
              "\n",
              "    [theme=dark] .colab-df-convert:hover {\n",
              "      background-color: #434B5C;\n",
              "      box-shadow: 0px 1px 3px 1px rgba(0, 0, 0, 0.15);\n",
              "      filter: drop-shadow(0px 1px 2px rgba(0, 0, 0, 0.3));\n",
              "      fill: #FFFFFF;\n",
              "    }\n",
              "  </style>\n",
              "\n",
              "      <script>\n",
              "        const buttonEl =\n",
              "          document.querySelector('#df-90c88e12-e7b4-4fa3-b0d3-9e02d97dba1d button.colab-df-convert');\n",
              "        buttonEl.style.display =\n",
              "          google.colab.kernel.accessAllowed ? 'block' : 'none';\n",
              "\n",
              "        async function convertToInteractive(key) {\n",
              "          const element = document.querySelector('#df-90c88e12-e7b4-4fa3-b0d3-9e02d97dba1d');\n",
              "          const dataTable =\n",
              "            await google.colab.kernel.invokeFunction('convertToInteractive',\n",
              "                                                     [key], {});\n",
              "          if (!dataTable) return;\n",
              "\n",
              "          const docLinkHtml = 'Like what you see? Visit the ' +\n",
              "            '<a target=\"_blank\" href=https://colab.research.google.com/notebooks/data_table.ipynb>data table notebook</a>'\n",
              "            + ' to learn more about interactive tables.';\n",
              "          element.innerHTML = '';\n",
              "          dataTable['output_type'] = 'display_data';\n",
              "          await google.colab.output.renderOutput(dataTable, element);\n",
              "          const docLink = document.createElement('div');\n",
              "          docLink.innerHTML = docLinkHtml;\n",
              "          element.appendChild(docLink);\n",
              "        }\n",
              "      </script>\n",
              "    </div>\n",
              "  </div>\n",
              "  "
            ]
          },
          "metadata": {},
          "execution_count": 4
        }
      ]
    },
    {
      "cell_type": "code",
      "source": [
        "netflix_df.info()"
      ],
      "metadata": {
        "id": "vQ6dlkaMJovX",
        "colab": {
          "base_uri": "https://localhost:8080/"
        },
        "outputId": "49315047-c282-4a20-dea0-90062ee3c6f8"
      },
      "execution_count": 5,
      "outputs": [
        {
          "output_type": "stream",
          "name": "stdout",
          "text": [
            "<class 'pandas.core.frame.DataFrame'>\n",
            "RangeIndex: 7787 entries, 0 to 7786\n",
            "Data columns (total 12 columns):\n",
            " #   Column        Non-Null Count  Dtype \n",
            "---  ------        --------------  ----- \n",
            " 0   show_id       7787 non-null   object\n",
            " 1   type          7787 non-null   object\n",
            " 2   title         7787 non-null   object\n",
            " 3   director      5398 non-null   object\n",
            " 4   cast          7069 non-null   object\n",
            " 5   country       7280 non-null   object\n",
            " 6   date_added    7777 non-null   object\n",
            " 7   release_year  7787 non-null   int64 \n",
            " 8   rating        7780 non-null   object\n",
            " 9   duration      7787 non-null   object\n",
            " 10  listed_in     7787 non-null   object\n",
            " 11  description   7787 non-null   object\n",
            "dtypes: int64(1), object(11)\n",
            "memory usage: 730.2+ KB\n"
          ]
        }
      ]
    },
    {
      "cell_type": "code",
      "source": [
        "# Shpae of Dataset\n",
        "print( 'Number of Rows: {}'.format( netflix_df.shape[0] ) )\n",
        "print( 'Number of Columns: {}'.format( netflix_df.shape[1] ) )"
      ],
      "metadata": {
        "id": "gQMMmALIPLlp",
        "colab": {
          "base_uri": "https://localhost:8080/"
        },
        "outputId": "1fe738cc-9e50-4fb1-b596-9efad5967f99"
      },
      "execution_count": 6,
      "outputs": [
        {
          "output_type": "stream",
          "name": "stdout",
          "text": [
            "Number of Rows: 7787\n",
            "Number of Columns: 12\n"
          ]
        }
      ]
    },
    {
      "cell_type": "code",
      "source": [
        "netflix_df.describe().T"
      ],
      "metadata": {
        "colab": {
          "base_uri": "https://localhost:8080/",
          "height": 81
        },
        "id": "0-30nNKQt_4v",
        "outputId": "fa7ac529-322e-4ecd-93d5-21e6beb2bf85"
      },
      "execution_count": 7,
      "outputs": [
        {
          "output_type": "execute_result",
          "data": {
            "text/plain": [
              "               count        mean       std     min     25%     50%     75%  \\\n",
              "release_year  7787.0  2013.93258  8.757395  1925.0  2013.0  2017.0  2018.0   \n",
              "\n",
              "                 max  \n",
              "release_year  2021.0  "
            ],
            "text/html": [
              "\n",
              "  <div id=\"df-7d00eacb-d5f6-4b10-94a6-60ec38113d15\">\n",
              "    <div class=\"colab-df-container\">\n",
              "      <div>\n",
              "<style scoped>\n",
              "    .dataframe tbody tr th:only-of-type {\n",
              "        vertical-align: middle;\n",
              "    }\n",
              "\n",
              "    .dataframe tbody tr th {\n",
              "        vertical-align: top;\n",
              "    }\n",
              "\n",
              "    .dataframe thead th {\n",
              "        text-align: right;\n",
              "    }\n",
              "</style>\n",
              "<table border=\"1\" class=\"dataframe\">\n",
              "  <thead>\n",
              "    <tr style=\"text-align: right;\">\n",
              "      <th></th>\n",
              "      <th>count</th>\n",
              "      <th>mean</th>\n",
              "      <th>std</th>\n",
              "      <th>min</th>\n",
              "      <th>25%</th>\n",
              "      <th>50%</th>\n",
              "      <th>75%</th>\n",
              "      <th>max</th>\n",
              "    </tr>\n",
              "  </thead>\n",
              "  <tbody>\n",
              "    <tr>\n",
              "      <th>release_year</th>\n",
              "      <td>7787.0</td>\n",
              "      <td>2013.93258</td>\n",
              "      <td>8.757395</td>\n",
              "      <td>1925.0</td>\n",
              "      <td>2013.0</td>\n",
              "      <td>2017.0</td>\n",
              "      <td>2018.0</td>\n",
              "      <td>2021.0</td>\n",
              "    </tr>\n",
              "  </tbody>\n",
              "</table>\n",
              "</div>\n",
              "      <button class=\"colab-df-convert\" onclick=\"convertToInteractive('df-7d00eacb-d5f6-4b10-94a6-60ec38113d15')\"\n",
              "              title=\"Convert this dataframe to an interactive table.\"\n",
              "              style=\"display:none;\">\n",
              "        \n",
              "  <svg xmlns=\"http://www.w3.org/2000/svg\" height=\"24px\"viewBox=\"0 0 24 24\"\n",
              "       width=\"24px\">\n",
              "    <path d=\"M0 0h24v24H0V0z\" fill=\"none\"/>\n",
              "    <path d=\"M18.56 5.44l.94 2.06.94-2.06 2.06-.94-2.06-.94-.94-2.06-.94 2.06-2.06.94zm-11 1L8.5 8.5l.94-2.06 2.06-.94-2.06-.94L8.5 2.5l-.94 2.06-2.06.94zm10 10l.94 2.06.94-2.06 2.06-.94-2.06-.94-.94-2.06-.94 2.06-2.06.94z\"/><path d=\"M17.41 7.96l-1.37-1.37c-.4-.4-.92-.59-1.43-.59-.52 0-1.04.2-1.43.59L10.3 9.45l-7.72 7.72c-.78.78-.78 2.05 0 2.83L4 21.41c.39.39.9.59 1.41.59.51 0 1.02-.2 1.41-.59l7.78-7.78 2.81-2.81c.8-.78.8-2.07 0-2.86zM5.41 20L4 18.59l7.72-7.72 1.47 1.35L5.41 20z\"/>\n",
              "  </svg>\n",
              "      </button>\n",
              "      \n",
              "  <style>\n",
              "    .colab-df-container {\n",
              "      display:flex;\n",
              "      flex-wrap:wrap;\n",
              "      gap: 12px;\n",
              "    }\n",
              "\n",
              "    .colab-df-convert {\n",
              "      background-color: #E8F0FE;\n",
              "      border: none;\n",
              "      border-radius: 50%;\n",
              "      cursor: pointer;\n",
              "      display: none;\n",
              "      fill: #1967D2;\n",
              "      height: 32px;\n",
              "      padding: 0 0 0 0;\n",
              "      width: 32px;\n",
              "    }\n",
              "\n",
              "    .colab-df-convert:hover {\n",
              "      background-color: #E2EBFA;\n",
              "      box-shadow: 0px 1px 2px rgba(60, 64, 67, 0.3), 0px 1px 3px 1px rgba(60, 64, 67, 0.15);\n",
              "      fill: #174EA6;\n",
              "    }\n",
              "\n",
              "    [theme=dark] .colab-df-convert {\n",
              "      background-color: #3B4455;\n",
              "      fill: #D2E3FC;\n",
              "    }\n",
              "\n",
              "    [theme=dark] .colab-df-convert:hover {\n",
              "      background-color: #434B5C;\n",
              "      box-shadow: 0px 1px 3px 1px rgba(0, 0, 0, 0.15);\n",
              "      filter: drop-shadow(0px 1px 2px rgba(0, 0, 0, 0.3));\n",
              "      fill: #FFFFFF;\n",
              "    }\n",
              "  </style>\n",
              "\n",
              "      <script>\n",
              "        const buttonEl =\n",
              "          document.querySelector('#df-7d00eacb-d5f6-4b10-94a6-60ec38113d15 button.colab-df-convert');\n",
              "        buttonEl.style.display =\n",
              "          google.colab.kernel.accessAllowed ? 'block' : 'none';\n",
              "\n",
              "        async function convertToInteractive(key) {\n",
              "          const element = document.querySelector('#df-7d00eacb-d5f6-4b10-94a6-60ec38113d15');\n",
              "          const dataTable =\n",
              "            await google.colab.kernel.invokeFunction('convertToInteractive',\n",
              "                                                     [key], {});\n",
              "          if (!dataTable) return;\n",
              "\n",
              "          const docLinkHtml = 'Like what you see? Visit the ' +\n",
              "            '<a target=\"_blank\" href=https://colab.research.google.com/notebooks/data_table.ipynb>data table notebook</a>'\n",
              "            + ' to learn more about interactive tables.';\n",
              "          element.innerHTML = '';\n",
              "          dataTable['output_type'] = 'display_data';\n",
              "          await google.colab.output.renderOutput(dataTable, element);\n",
              "          const docLink = document.createElement('div');\n",
              "          docLink.innerHTML = docLinkHtml;\n",
              "          element.appendChild(docLink);\n",
              "        }\n",
              "      </script>\n",
              "    </div>\n",
              "  </div>\n",
              "  "
            ]
          },
          "metadata": {},
          "execution_count": 7
        }
      ]
    },
    {
      "cell_type": "code",
      "source": [
        "netflix_df.columns"
      ],
      "metadata": {
        "id": "U-DTi0JsHnRY",
        "colab": {
          "base_uri": "https://localhost:8080/"
        },
        "outputId": "761e1633-a1af-4ea6-966b-a08e4be9b6da"
      },
      "execution_count": 8,
      "outputs": [
        {
          "output_type": "execute_result",
          "data": {
            "text/plain": [
              "Index(['show_id', 'type', 'title', 'director', 'cast', 'country', 'date_added',\n",
              "       'release_year', 'rating', 'duration', 'listed_in', 'description'],\n",
              "      dtype='object')"
            ]
          },
          "metadata": {},
          "execution_count": 8
        }
      ]
    },
    {
      "cell_type": "markdown",
      "source": [
        "# **4. Data Cleaning**"
      ],
      "metadata": {
        "id": "6GXB60EovGws"
      }
    },
    {
      "cell_type": "markdown",
      "source": [
        "## **4.1 Checking NaN values**"
      ],
      "metadata": {
        "id": "bSz58kTdvM_R"
      }
    },
    {
      "cell_type": "code",
      "source": [
        "#Check NAN values\n",
        "NaN_df = pd.DataFrame({\"No Of Total Values\": netflix_df.shape[0] , \"'Missing values count\": netflix_df.isnull().sum(),\n",
        "                    \"%age of NaN values\" : round((netflix_df.isnull().sum()/ netflix_df.shape[0])*100 , 2) })\n",
        "NaN_df.sort_values(\"'Missing values count\" , ascending = False)"
      ],
      "metadata": {
        "id": "lHZlXP4TPbYa",
        "colab": {
          "base_uri": "https://localhost:8080/",
          "height": 426
        },
        "outputId": "730e048b-6ad9-46f1-c4c3-3cc373172237"
      },
      "execution_count": 9,
      "outputs": [
        {
          "output_type": "execute_result",
          "data": {
            "text/plain": [
              "              No Of Total Values  'Missing values count  %age of NaN values\n",
              "director                    7787                   2389               30.68\n",
              "cast                        7787                    718                9.22\n",
              "country                     7787                    507                6.51\n",
              "date_added                  7787                     10                0.13\n",
              "rating                      7787                      7                0.09\n",
              "show_id                     7787                      0                0.00\n",
              "type                        7787                      0                0.00\n",
              "title                       7787                      0                0.00\n",
              "release_year                7787                      0                0.00\n",
              "duration                    7787                      0                0.00\n",
              "listed_in                   7787                      0                0.00\n",
              "description                 7787                      0                0.00"
            ],
            "text/html": [
              "\n",
              "  <div id=\"df-208d2d39-226a-46d3-ae67-40667bd3e379\">\n",
              "    <div class=\"colab-df-container\">\n",
              "      <div>\n",
              "<style scoped>\n",
              "    .dataframe tbody tr th:only-of-type {\n",
              "        vertical-align: middle;\n",
              "    }\n",
              "\n",
              "    .dataframe tbody tr th {\n",
              "        vertical-align: top;\n",
              "    }\n",
              "\n",
              "    .dataframe thead th {\n",
              "        text-align: right;\n",
              "    }\n",
              "</style>\n",
              "<table border=\"1\" class=\"dataframe\">\n",
              "  <thead>\n",
              "    <tr style=\"text-align: right;\">\n",
              "      <th></th>\n",
              "      <th>No Of Total Values</th>\n",
              "      <th>'Missing values count</th>\n",
              "      <th>%age of NaN values</th>\n",
              "    </tr>\n",
              "  </thead>\n",
              "  <tbody>\n",
              "    <tr>\n",
              "      <th>director</th>\n",
              "      <td>7787</td>\n",
              "      <td>2389</td>\n",
              "      <td>30.68</td>\n",
              "    </tr>\n",
              "    <tr>\n",
              "      <th>cast</th>\n",
              "      <td>7787</td>\n",
              "      <td>718</td>\n",
              "      <td>9.22</td>\n",
              "    </tr>\n",
              "    <tr>\n",
              "      <th>country</th>\n",
              "      <td>7787</td>\n",
              "      <td>507</td>\n",
              "      <td>6.51</td>\n",
              "    </tr>\n",
              "    <tr>\n",
              "      <th>date_added</th>\n",
              "      <td>7787</td>\n",
              "      <td>10</td>\n",
              "      <td>0.13</td>\n",
              "    </tr>\n",
              "    <tr>\n",
              "      <th>rating</th>\n",
              "      <td>7787</td>\n",
              "      <td>7</td>\n",
              "      <td>0.09</td>\n",
              "    </tr>\n",
              "    <tr>\n",
              "      <th>show_id</th>\n",
              "      <td>7787</td>\n",
              "      <td>0</td>\n",
              "      <td>0.00</td>\n",
              "    </tr>\n",
              "    <tr>\n",
              "      <th>type</th>\n",
              "      <td>7787</td>\n",
              "      <td>0</td>\n",
              "      <td>0.00</td>\n",
              "    </tr>\n",
              "    <tr>\n",
              "      <th>title</th>\n",
              "      <td>7787</td>\n",
              "      <td>0</td>\n",
              "      <td>0.00</td>\n",
              "    </tr>\n",
              "    <tr>\n",
              "      <th>release_year</th>\n",
              "      <td>7787</td>\n",
              "      <td>0</td>\n",
              "      <td>0.00</td>\n",
              "    </tr>\n",
              "    <tr>\n",
              "      <th>duration</th>\n",
              "      <td>7787</td>\n",
              "      <td>0</td>\n",
              "      <td>0.00</td>\n",
              "    </tr>\n",
              "    <tr>\n",
              "      <th>listed_in</th>\n",
              "      <td>7787</td>\n",
              "      <td>0</td>\n",
              "      <td>0.00</td>\n",
              "    </tr>\n",
              "    <tr>\n",
              "      <th>description</th>\n",
              "      <td>7787</td>\n",
              "      <td>0</td>\n",
              "      <td>0.00</td>\n",
              "    </tr>\n",
              "  </tbody>\n",
              "</table>\n",
              "</div>\n",
              "      <button class=\"colab-df-convert\" onclick=\"convertToInteractive('df-208d2d39-226a-46d3-ae67-40667bd3e379')\"\n",
              "              title=\"Convert this dataframe to an interactive table.\"\n",
              "              style=\"display:none;\">\n",
              "        \n",
              "  <svg xmlns=\"http://www.w3.org/2000/svg\" height=\"24px\"viewBox=\"0 0 24 24\"\n",
              "       width=\"24px\">\n",
              "    <path d=\"M0 0h24v24H0V0z\" fill=\"none\"/>\n",
              "    <path d=\"M18.56 5.44l.94 2.06.94-2.06 2.06-.94-2.06-.94-.94-2.06-.94 2.06-2.06.94zm-11 1L8.5 8.5l.94-2.06 2.06-.94-2.06-.94L8.5 2.5l-.94 2.06-2.06.94zm10 10l.94 2.06.94-2.06 2.06-.94-2.06-.94-.94-2.06-.94 2.06-2.06.94z\"/><path d=\"M17.41 7.96l-1.37-1.37c-.4-.4-.92-.59-1.43-.59-.52 0-1.04.2-1.43.59L10.3 9.45l-7.72 7.72c-.78.78-.78 2.05 0 2.83L4 21.41c.39.39.9.59 1.41.59.51 0 1.02-.2 1.41-.59l7.78-7.78 2.81-2.81c.8-.78.8-2.07 0-2.86zM5.41 20L4 18.59l7.72-7.72 1.47 1.35L5.41 20z\"/>\n",
              "  </svg>\n",
              "      </button>\n",
              "      \n",
              "  <style>\n",
              "    .colab-df-container {\n",
              "      display:flex;\n",
              "      flex-wrap:wrap;\n",
              "      gap: 12px;\n",
              "    }\n",
              "\n",
              "    .colab-df-convert {\n",
              "      background-color: #E8F0FE;\n",
              "      border: none;\n",
              "      border-radius: 50%;\n",
              "      cursor: pointer;\n",
              "      display: none;\n",
              "      fill: #1967D2;\n",
              "      height: 32px;\n",
              "      padding: 0 0 0 0;\n",
              "      width: 32px;\n",
              "    }\n",
              "\n",
              "    .colab-df-convert:hover {\n",
              "      background-color: #E2EBFA;\n",
              "      box-shadow: 0px 1px 2px rgba(60, 64, 67, 0.3), 0px 1px 3px 1px rgba(60, 64, 67, 0.15);\n",
              "      fill: #174EA6;\n",
              "    }\n",
              "\n",
              "    [theme=dark] .colab-df-convert {\n",
              "      background-color: #3B4455;\n",
              "      fill: #D2E3FC;\n",
              "    }\n",
              "\n",
              "    [theme=dark] .colab-df-convert:hover {\n",
              "      background-color: #434B5C;\n",
              "      box-shadow: 0px 1px 3px 1px rgba(0, 0, 0, 0.15);\n",
              "      filter: drop-shadow(0px 1px 2px rgba(0, 0, 0, 0.3));\n",
              "      fill: #FFFFFF;\n",
              "    }\n",
              "  </style>\n",
              "\n",
              "      <script>\n",
              "        const buttonEl =\n",
              "          document.querySelector('#df-208d2d39-226a-46d3-ae67-40667bd3e379 button.colab-df-convert');\n",
              "        buttonEl.style.display =\n",
              "          google.colab.kernel.accessAllowed ? 'block' : 'none';\n",
              "\n",
              "        async function convertToInteractive(key) {\n",
              "          const element = document.querySelector('#df-208d2d39-226a-46d3-ae67-40667bd3e379');\n",
              "          const dataTable =\n",
              "            await google.colab.kernel.invokeFunction('convertToInteractive',\n",
              "                                                     [key], {});\n",
              "          if (!dataTable) return;\n",
              "\n",
              "          const docLinkHtml = 'Like what you see? Visit the ' +\n",
              "            '<a target=\"_blank\" href=https://colab.research.google.com/notebooks/data_table.ipynb>data table notebook</a>'\n",
              "            + ' to learn more about interactive tables.';\n",
              "          element.innerHTML = '';\n",
              "          dataTable['output_type'] = 'display_data';\n",
              "          await google.colab.output.renderOutput(dataTable, element);\n",
              "          const docLink = document.createElement('div');\n",
              "          docLink.innerHTML = docLinkHtml;\n",
              "          element.appendChild(docLink);\n",
              "        }\n",
              "      </script>\n",
              "    </div>\n",
              "  </div>\n",
              "  "
            ]
          },
          "metadata": {},
          "execution_count": 9
        }
      ]
    },
    {
      "cell_type": "markdown",
      "source": [
        "**5 columns have missing values, with Director missing 1/3 of the time.**\n",
        "---\n",
        "\n",
        "* **Director column has highest NaN values \"30.7%\" data is missing.**\n",
        "\n",
        "* **Cast column has \"9%\" NaN values.**\n",
        "\n",
        "* **country , date_added , rating this columns also containing missing values.**"
      ],
      "metadata": {
        "id": "0RUPLboSoqvF"
      }
    },
    {
      "cell_type": "markdown",
      "source": [
        "## **4.2 Dealing with Nan Values.**"
      ],
      "metadata": {
        "id": "YfUeHJ5opXKT"
      }
    },
    {
      "cell_type": "code",
      "source": [
        "netflix_df.director.fillna(\"No Director\", inplace=True)\n",
        "netflix_df.cast.fillna(\"No Cast\", inplace=True)"
      ],
      "metadata": {
        "id": "ttFl9_VUlacJ"
      },
      "execution_count": 10,
      "outputs": []
    },
    {
      "cell_type": "markdown",
      "source": [
        "## **4.3 Lets check NaN values on data_added**"
      ],
      "metadata": {
        "id": "1LrUtkfCpqgM"
      }
    },
    {
      "cell_type": "code",
      "source": [
        "data_added_Nan_df = netflix_df[netflix_df['date_added'].isna()]\n",
        "data_added_Nan_df.head(3)"
      ],
      "metadata": {
        "colab": {
          "base_uri": "https://localhost:8080/",
          "height": 274
        },
        "id": "UYafLsjJppqG",
        "outputId": "b8a3049b-ed30-4e72-e482-0eb72595c312"
      },
      "execution_count": 11,
      "outputs": [
        {
          "output_type": "execute_result",
          "data": {
            "text/plain": [
              "     show_id     type                                        title  \\\n",
              "258     s259  TV Show  A Young Doctor's Notebook and Other Stories   \n",
              "549     s550  TV Show              Anthony Bourdain: Parts Unknown   \n",
              "2263   s2264  TV Show                                      Frasier   \n",
              "\n",
              "         director                                               cast  \\\n",
              "258   No Director  Daniel Radcliffe, Jon Hamm, Adam Godley, Chris...   \n",
              "549   No Director                                   Anthony Bourdain   \n",
              "2263  No Director  Kelsey Grammer, Jane Leeves, David Hyde Pierce...   \n",
              "\n",
              "             country date_added  release_year rating    duration  \\\n",
              "258   United Kingdom        NaN          2013  TV-MA   2 Seasons   \n",
              "549    United States        NaN          2018  TV-PG   5 Seasons   \n",
              "2263   United States        NaN          2003  TV-PG  11 Seasons   \n",
              "\n",
              "                                     listed_in  \\\n",
              "258   British TV Shows, TV Comedies, TV Dramas   \n",
              "549                                 Docuseries   \n",
              "2263            Classic & Cult TV, TV Comedies   \n",
              "\n",
              "                                            description  \n",
              "258   Set during the Russian Revolution, this comic ...  \n",
              "549   This CNN original series has chef Anthony Bour...  \n",
              "2263  Frasier Crane is a snooty but lovable Seattle ...  "
            ],
            "text/html": [
              "\n",
              "  <div id=\"df-049c9041-e041-49f0-bb27-a12766ab1f20\">\n",
              "    <div class=\"colab-df-container\">\n",
              "      <div>\n",
              "<style scoped>\n",
              "    .dataframe tbody tr th:only-of-type {\n",
              "        vertical-align: middle;\n",
              "    }\n",
              "\n",
              "    .dataframe tbody tr th {\n",
              "        vertical-align: top;\n",
              "    }\n",
              "\n",
              "    .dataframe thead th {\n",
              "        text-align: right;\n",
              "    }\n",
              "</style>\n",
              "<table border=\"1\" class=\"dataframe\">\n",
              "  <thead>\n",
              "    <tr style=\"text-align: right;\">\n",
              "      <th></th>\n",
              "      <th>show_id</th>\n",
              "      <th>type</th>\n",
              "      <th>title</th>\n",
              "      <th>director</th>\n",
              "      <th>cast</th>\n",
              "      <th>country</th>\n",
              "      <th>date_added</th>\n",
              "      <th>release_year</th>\n",
              "      <th>rating</th>\n",
              "      <th>duration</th>\n",
              "      <th>listed_in</th>\n",
              "      <th>description</th>\n",
              "    </tr>\n",
              "  </thead>\n",
              "  <tbody>\n",
              "    <tr>\n",
              "      <th>258</th>\n",
              "      <td>s259</td>\n",
              "      <td>TV Show</td>\n",
              "      <td>A Young Doctor's Notebook and Other Stories</td>\n",
              "      <td>No Director</td>\n",
              "      <td>Daniel Radcliffe, Jon Hamm, Adam Godley, Chris...</td>\n",
              "      <td>United Kingdom</td>\n",
              "      <td>NaN</td>\n",
              "      <td>2013</td>\n",
              "      <td>TV-MA</td>\n",
              "      <td>2 Seasons</td>\n",
              "      <td>British TV Shows, TV Comedies, TV Dramas</td>\n",
              "      <td>Set during the Russian Revolution, this comic ...</td>\n",
              "    </tr>\n",
              "    <tr>\n",
              "      <th>549</th>\n",
              "      <td>s550</td>\n",
              "      <td>TV Show</td>\n",
              "      <td>Anthony Bourdain: Parts Unknown</td>\n",
              "      <td>No Director</td>\n",
              "      <td>Anthony Bourdain</td>\n",
              "      <td>United States</td>\n",
              "      <td>NaN</td>\n",
              "      <td>2018</td>\n",
              "      <td>TV-PG</td>\n",
              "      <td>5 Seasons</td>\n",
              "      <td>Docuseries</td>\n",
              "      <td>This CNN original series has chef Anthony Bour...</td>\n",
              "    </tr>\n",
              "    <tr>\n",
              "      <th>2263</th>\n",
              "      <td>s2264</td>\n",
              "      <td>TV Show</td>\n",
              "      <td>Frasier</td>\n",
              "      <td>No Director</td>\n",
              "      <td>Kelsey Grammer, Jane Leeves, David Hyde Pierce...</td>\n",
              "      <td>United States</td>\n",
              "      <td>NaN</td>\n",
              "      <td>2003</td>\n",
              "      <td>TV-PG</td>\n",
              "      <td>11 Seasons</td>\n",
              "      <td>Classic &amp; Cult TV, TV Comedies</td>\n",
              "      <td>Frasier Crane is a snooty but lovable Seattle ...</td>\n",
              "    </tr>\n",
              "  </tbody>\n",
              "</table>\n",
              "</div>\n",
              "      <button class=\"colab-df-convert\" onclick=\"convertToInteractive('df-049c9041-e041-49f0-bb27-a12766ab1f20')\"\n",
              "              title=\"Convert this dataframe to an interactive table.\"\n",
              "              style=\"display:none;\">\n",
              "        \n",
              "  <svg xmlns=\"http://www.w3.org/2000/svg\" height=\"24px\"viewBox=\"0 0 24 24\"\n",
              "       width=\"24px\">\n",
              "    <path d=\"M0 0h24v24H0V0z\" fill=\"none\"/>\n",
              "    <path d=\"M18.56 5.44l.94 2.06.94-2.06 2.06-.94-2.06-.94-.94-2.06-.94 2.06-2.06.94zm-11 1L8.5 8.5l.94-2.06 2.06-.94-2.06-.94L8.5 2.5l-.94 2.06-2.06.94zm10 10l.94 2.06.94-2.06 2.06-.94-2.06-.94-.94-2.06-.94 2.06-2.06.94z\"/><path d=\"M17.41 7.96l-1.37-1.37c-.4-.4-.92-.59-1.43-.59-.52 0-1.04.2-1.43.59L10.3 9.45l-7.72 7.72c-.78.78-.78 2.05 0 2.83L4 21.41c.39.39.9.59 1.41.59.51 0 1.02-.2 1.41-.59l7.78-7.78 2.81-2.81c.8-.78.8-2.07 0-2.86zM5.41 20L4 18.59l7.72-7.72 1.47 1.35L5.41 20z\"/>\n",
              "  </svg>\n",
              "      </button>\n",
              "      \n",
              "  <style>\n",
              "    .colab-df-container {\n",
              "      display:flex;\n",
              "      flex-wrap:wrap;\n",
              "      gap: 12px;\n",
              "    }\n",
              "\n",
              "    .colab-df-convert {\n",
              "      background-color: #E8F0FE;\n",
              "      border: none;\n",
              "      border-radius: 50%;\n",
              "      cursor: pointer;\n",
              "      display: none;\n",
              "      fill: #1967D2;\n",
              "      height: 32px;\n",
              "      padding: 0 0 0 0;\n",
              "      width: 32px;\n",
              "    }\n",
              "\n",
              "    .colab-df-convert:hover {\n",
              "      background-color: #E2EBFA;\n",
              "      box-shadow: 0px 1px 2px rgba(60, 64, 67, 0.3), 0px 1px 3px 1px rgba(60, 64, 67, 0.15);\n",
              "      fill: #174EA6;\n",
              "    }\n",
              "\n",
              "    [theme=dark] .colab-df-convert {\n",
              "      background-color: #3B4455;\n",
              "      fill: #D2E3FC;\n",
              "    }\n",
              "\n",
              "    [theme=dark] .colab-df-convert:hover {\n",
              "      background-color: #434B5C;\n",
              "      box-shadow: 0px 1px 3px 1px rgba(0, 0, 0, 0.15);\n",
              "      filter: drop-shadow(0px 1px 2px rgba(0, 0, 0, 0.3));\n",
              "      fill: #FFFFFF;\n",
              "    }\n",
              "  </style>\n",
              "\n",
              "      <script>\n",
              "        const buttonEl =\n",
              "          document.querySelector('#df-049c9041-e041-49f0-bb27-a12766ab1f20 button.colab-df-convert');\n",
              "        buttonEl.style.display =\n",
              "          google.colab.kernel.accessAllowed ? 'block' : 'none';\n",
              "\n",
              "        async function convertToInteractive(key) {\n",
              "          const element = document.querySelector('#df-049c9041-e041-49f0-bb27-a12766ab1f20');\n",
              "          const dataTable =\n",
              "            await google.colab.kernel.invokeFunction('convertToInteractive',\n",
              "                                                     [key], {});\n",
              "          if (!dataTable) return;\n",
              "\n",
              "          const docLinkHtml = 'Like what you see? Visit the ' +\n",
              "            '<a target=\"_blank\" href=https://colab.research.google.com/notebooks/data_table.ipynb>data table notebook</a>'\n",
              "            + ' to learn more about interactive tables.';\n",
              "          element.innerHTML = '';\n",
              "          dataTable['output_type'] = 'display_data';\n",
              "          await google.colab.output.renderOutput(dataTable, element);\n",
              "          const docLink = document.createElement('div');\n",
              "          docLink.innerHTML = docLinkHtml;\n",
              "          element.appendChild(docLink);\n",
              "        }\n",
              "      </script>\n",
              "    </div>\n",
              "  </div>\n",
              "  "
            ]
          },
          "metadata": {},
          "execution_count": 11
        }
      ]
    },
    {
      "cell_type": "code",
      "source": [
        "data_added_Nan_df.shape"
      ],
      "metadata": {
        "colab": {
          "base_uri": "https://localhost:8080/"
        },
        "id": "uFIgsMhmp-PT",
        "outputId": "5a11f9dc-f3c5-44bb-f35f-ab59ccbd67e5"
      },
      "execution_count": 12,
      "outputs": [
        {
          "output_type": "execute_result",
          "data": {
            "text/plain": [
              "(10, 12)"
            ]
          },
          "metadata": {},
          "execution_count": 12
        }
      ]
    },
    {
      "cell_type": "markdown",
      "source": [
        "* **There are only 10 observations which are containing NaN values in data_added column.**"
      ],
      "metadata": {
        "id": "ziDV8ugpqW2e"
      }
    },
    {
      "cell_type": "code",
      "source": [
        "print(f\"Before dropping the NaN values from date_added the shape was {netflix_df.shape}\")\n",
        "netflix_df.dropna(subset = [ 'date_added' ], inplace = True)\n",
        "print(f\"After dropping the NaN values from date_added now the shape is {netflix_df.shape}\")"
      ],
      "metadata": {
        "colab": {
          "base_uri": "https://localhost:8080/"
        },
        "id": "N1box1IuqetV",
        "outputId": "2ebab5a7-65b8-4caf-bc78-42392f4077aa"
      },
      "execution_count": 13,
      "outputs": [
        {
          "output_type": "stream",
          "name": "stdout",
          "text": [
            "Before dropping the NaN values from date_added the shape was (7787, 12)\n",
            "After dropping the NaN values from date_added now the shape is (7777, 12)\n"
          ]
        }
      ]
    },
    {
      "cell_type": "markdown",
      "source": [
        "## **4.4 Checking duplicate values**"
      ],
      "metadata": {
        "id": "u2eOgsRkwnIs"
      }
    },
    {
      "cell_type": "code",
      "source": [
        "df_duplicate = netflix_df[netflix_df.duplicated()]\n",
        "print(\"Let's print all the duplicated rows as a dataframe\")\n",
        "df_duplicate"
      ],
      "metadata": {
        "colab": {
          "base_uri": "https://localhost:8080/",
          "height": 66
        },
        "id": "Wc-Evu2AngTR",
        "outputId": "0e53fb46-3855-436b-95ec-86b5af5dd30d"
      },
      "execution_count": 14,
      "outputs": [
        {
          "output_type": "stream",
          "name": "stdout",
          "text": [
            "Let's print all the duplicated rows as a dataframe\n"
          ]
        },
        {
          "output_type": "execute_result",
          "data": {
            "text/plain": [
              "Empty DataFrame\n",
              "Columns: [show_id, type, title, director, cast, country, date_added, release_year, rating, duration, listed_in, description]\n",
              "Index: []"
            ],
            "text/html": [
              "\n",
              "  <div id=\"df-f14e5895-9c20-43e2-91c9-d732fdd6d4ef\">\n",
              "    <div class=\"colab-df-container\">\n",
              "      <div>\n",
              "<style scoped>\n",
              "    .dataframe tbody tr th:only-of-type {\n",
              "        vertical-align: middle;\n",
              "    }\n",
              "\n",
              "    .dataframe tbody tr th {\n",
              "        vertical-align: top;\n",
              "    }\n",
              "\n",
              "    .dataframe thead th {\n",
              "        text-align: right;\n",
              "    }\n",
              "</style>\n",
              "<table border=\"1\" class=\"dataframe\">\n",
              "  <thead>\n",
              "    <tr style=\"text-align: right;\">\n",
              "      <th></th>\n",
              "      <th>show_id</th>\n",
              "      <th>type</th>\n",
              "      <th>title</th>\n",
              "      <th>director</th>\n",
              "      <th>cast</th>\n",
              "      <th>country</th>\n",
              "      <th>date_added</th>\n",
              "      <th>release_year</th>\n",
              "      <th>rating</th>\n",
              "      <th>duration</th>\n",
              "      <th>listed_in</th>\n",
              "      <th>description</th>\n",
              "    </tr>\n",
              "  </thead>\n",
              "  <tbody>\n",
              "  </tbody>\n",
              "</table>\n",
              "</div>\n",
              "      <button class=\"colab-df-convert\" onclick=\"convertToInteractive('df-f14e5895-9c20-43e2-91c9-d732fdd6d4ef')\"\n",
              "              title=\"Convert this dataframe to an interactive table.\"\n",
              "              style=\"display:none;\">\n",
              "        \n",
              "  <svg xmlns=\"http://www.w3.org/2000/svg\" height=\"24px\"viewBox=\"0 0 24 24\"\n",
              "       width=\"24px\">\n",
              "    <path d=\"M0 0h24v24H0V0z\" fill=\"none\"/>\n",
              "    <path d=\"M18.56 5.44l.94 2.06.94-2.06 2.06-.94-2.06-.94-.94-2.06-.94 2.06-2.06.94zm-11 1L8.5 8.5l.94-2.06 2.06-.94-2.06-.94L8.5 2.5l-.94 2.06-2.06.94zm10 10l.94 2.06.94-2.06 2.06-.94-2.06-.94-.94-2.06-.94 2.06-2.06.94z\"/><path d=\"M17.41 7.96l-1.37-1.37c-.4-.4-.92-.59-1.43-.59-.52 0-1.04.2-1.43.59L10.3 9.45l-7.72 7.72c-.78.78-.78 2.05 0 2.83L4 21.41c.39.39.9.59 1.41.59.51 0 1.02-.2 1.41-.59l7.78-7.78 2.81-2.81c.8-.78.8-2.07 0-2.86zM5.41 20L4 18.59l7.72-7.72 1.47 1.35L5.41 20z\"/>\n",
              "  </svg>\n",
              "      </button>\n",
              "      \n",
              "  <style>\n",
              "    .colab-df-container {\n",
              "      display:flex;\n",
              "      flex-wrap:wrap;\n",
              "      gap: 12px;\n",
              "    }\n",
              "\n",
              "    .colab-df-convert {\n",
              "      background-color: #E8F0FE;\n",
              "      border: none;\n",
              "      border-radius: 50%;\n",
              "      cursor: pointer;\n",
              "      display: none;\n",
              "      fill: #1967D2;\n",
              "      height: 32px;\n",
              "      padding: 0 0 0 0;\n",
              "      width: 32px;\n",
              "    }\n",
              "\n",
              "    .colab-df-convert:hover {\n",
              "      background-color: #E2EBFA;\n",
              "      box-shadow: 0px 1px 2px rgba(60, 64, 67, 0.3), 0px 1px 3px 1px rgba(60, 64, 67, 0.15);\n",
              "      fill: #174EA6;\n",
              "    }\n",
              "\n",
              "    [theme=dark] .colab-df-convert {\n",
              "      background-color: #3B4455;\n",
              "      fill: #D2E3FC;\n",
              "    }\n",
              "\n",
              "    [theme=dark] .colab-df-convert:hover {\n",
              "      background-color: #434B5C;\n",
              "      box-shadow: 0px 1px 3px 1px rgba(0, 0, 0, 0.15);\n",
              "      filter: drop-shadow(0px 1px 2px rgba(0, 0, 0, 0.3));\n",
              "      fill: #FFFFFF;\n",
              "    }\n",
              "  </style>\n",
              "\n",
              "      <script>\n",
              "        const buttonEl =\n",
              "          document.querySelector('#df-f14e5895-9c20-43e2-91c9-d732fdd6d4ef button.colab-df-convert');\n",
              "        buttonEl.style.display =\n",
              "          google.colab.kernel.accessAllowed ? 'block' : 'none';\n",
              "\n",
              "        async function convertToInteractive(key) {\n",
              "          const element = document.querySelector('#df-f14e5895-9c20-43e2-91c9-d732fdd6d4ef');\n",
              "          const dataTable =\n",
              "            await google.colab.kernel.invokeFunction('convertToInteractive',\n",
              "                                                     [key], {});\n",
              "          if (!dataTable) return;\n",
              "\n",
              "          const docLinkHtml = 'Like what you see? Visit the ' +\n",
              "            '<a target=\"_blank\" href=https://colab.research.google.com/notebooks/data_table.ipynb>data table notebook</a>'\n",
              "            + ' to learn more about interactive tables.';\n",
              "          element.innerHTML = '';\n",
              "          dataTable['output_type'] = 'display_data';\n",
              "          await google.colab.output.renderOutput(dataTable, element);\n",
              "          const docLink = document.createElement('div');\n",
              "          docLink.innerHTML = docLinkHtml;\n",
              "          element.appendChild(docLink);\n",
              "        }\n",
              "      </script>\n",
              "    </div>\n",
              "  </div>\n",
              "  "
            ]
          },
          "metadata": {},
          "execution_count": 14
        }
      ]
    },
    {
      "cell_type": "markdown",
      "source": [
        "* **No duplicate values present in this dataset.**"
      ],
      "metadata": {
        "id": "bJ-Dc6jRoEB4"
      }
    },
    {
      "cell_type": "code",
      "source": [
        ""
      ],
      "metadata": {
        "id": "PVkC_lpvlLel"
      },
      "execution_count": null,
      "outputs": []
    }
  ]
}